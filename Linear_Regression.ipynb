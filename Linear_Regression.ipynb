{
  "nbformat": 4,
  "nbformat_minor": 0,
  "metadata": {
    "colab": {
      "name": "Linear Regression.ipynb",
      "provenance": []
    },
    "kernelspec": {
      "name": "python3",
      "display_name": "Python 3"
    }
  },
  "cells": [
    {
      "cell_type": "code",
      "metadata": {
        "id": "5Jom9Ax0GRSp"
      },
      "source": [
        "import numpy as np\r\n",
        "import matplotlib.pyplot as plt\r\n",
        "import sklearn \r\n",
        "\r\n",
        "from sklearn.linear_model import LinearRegression"
      ],
      "execution_count": 111,
      "outputs": []
    },
    {
      "cell_type": "markdown",
      "metadata": {
        "id": "squW8jaCEmDL"
      },
      "source": [
        "# Single Variable Linear Regression\r\n",
        "\r\n",
        "---\r\n",
        "Y = a + bX | a=intercept (Expected mean value), b=slope\r\n",
        "\r\n",
        "\r\n"
      ]
    },
    {
      "cell_type": "code",
      "metadata": {
        "colab": {
          "base_uri": "https://localhost:8080/",
          "height": 285
        },
        "id": "KZO9SOwjGS_D",
        "outputId": "f513f33a-2ed4-4e37-c9b0-be6be9a657d0"
      },
      "source": [
        "np.random.seed(0)\r\n",
        "\r\n",
        "x = np.random.randint(1,50,20)\r\n",
        "y = np.random.randint(1,50,20)\r\n",
        "\r\n",
        "plt.plot(x, y, 'o')"
      ],
      "execution_count": 112,
      "outputs": [
        {
          "output_type": "execute_result",
          "data": {
            "text/plain": [
              "[<matplotlib.lines.Line2D at 0x7f6adc0e6a20>]"
            ]
          },
          "metadata": {
            "tags": []
          },
          "execution_count": 112
        },
        {
          "output_type": "display_data",
          "data": {
            "image/png": "[encoded data removed]",
            "text/plain": [
              "<Figure size 432x288 with 1 Axes>"
            ]
          },
          "metadata": {
            "tags": [],
            "needs_background": "light"
          }
        }
      ]
    },
    {
      "cell_type": "code",
      "metadata": {
        "id": "WFyP_U77rQbN"
      },
      "source": [
        "x2=x.reshape((-1,1)) # Reshape to 2D"
      ],
      "execution_count": 113,
      "outputs": []
    },
    {
      "cell_type": "code",
      "metadata": {
        "colab": {
          "base_uri": "https://localhost:8080/",
          "height": 404
        },
        "id": "3ZnCIU22GTBQ",
        "outputId": "eaf62b64-1334-4c67-dcfe-d3b0b6af9ea7"
      },
      "source": [
        "plt.plot(x, y, 'o') # Data sample points\r\n",
        "\r\n",
        "model=LinearRegression().fit(x2, y)\r\n",
        "\r\n",
        "yfit=model.predict(x2) # Predictions here | y = intercept + coefficient*x\r\n",
        "print(\"Predicted dependent:\", yfit)\r\n",
        "\r\n",
        "plt.plot(x2, yfit, color=\"red\") # Best fit line\r\n",
        "\r\n",
        "corr = np.corrcoef(x,y) # Correlation value\r\n",
        "r2 = model.score(x2,y) # R2 value\r\n",
        "\r\n",
        "print(\"Coefficient:\", model.coef_[0])\r\n",
        "print(\"Intercept:\", model.intercept_)\r\n",
        "print(\"Correlation:\", corr[0][1])\r\n",
        "print(\"R2:\", r2)"
      ],
      "execution_count": 114,
      "outputs": [
        {
          "output_type": "stream",
          "text": [
            "Predicted dependent: [15.00285127 14.19474507 26.85507557 26.04696937 26.04696937 16.34969494\n",
            " 24.43075697 21.73706963 21.19833216 17.15780115 20.65959469 25.23886317\n",
            " 20.39022596 20.39022596 23.62265076 26.58570684 16.61906368 16.34969494\n",
            " 20.65959469 14.46411381]\n",
            "Coefficient: -0.269368734095717\n",
            "Intercept: 27.12444430818285\n",
            "Correlation: -0.38378525096097177\n",
            "R2: 0.14729111885517587\n"
          ],
          "name": "stdout"
        },
        {
          "output_type": "display_data",
          "data": {
            "image/png": "[encoded data removed]",
            "text/plain": [
              "<Figure size 432x288 with 1 Axes>"
            ]
          },
          "metadata": {
            "tags": [],
            "needs_background": "light"
          }
        }
      ]
    },
    {
      "cell_type": "markdown",
      "metadata": {
        "id": "NMEGxAn_Gx8K"
      },
      "source": [
        "# Multivariate Linear Regression\r\n",
        "More than 1 independent variables\r\n",
        "y=b0+(b1*x1)+(b2*x2)+...(bn*xn)"
      ]
    },
    {
      "cell_type": "code",
      "metadata": {
        "id": "KARjOTINEysN"
      },
      "source": [
        "mx = np.random.randint(1,10, size=(10,2))\r\n",
        "my = np.random.randint(1,10, size=(1,10))"
      ],
      "execution_count": 115,
      "outputs": []
    },
    {
      "cell_type": "code",
      "metadata": {
        "colab": {
          "base_uri": "https://localhost:8080/"
        },
        "id": "O44fcOM6EyuH",
        "outputId": "31275495-895b-4abb-e72e-bc1a84d5446d"
      },
      "source": [
        "print(mx) # 2D array with at least 2 columns\r\n",
        "print(my) # 1D array"
      ],
      "execution_count": 116,
      "outputs": [
        {
          "output_type": "stream",
          "text": [
            "[[8 1]\n",
            " [2 1]\n",
            " [5 8]\n",
            " [4 3]\n",
            " [8 3]\n",
            " [1 1]\n",
            " [5 6]\n",
            " [6 7]\n",
            " [9 5]\n",
            " [2 5]]\n",
            "[[9 2 2 8 4 7 8 3 1 4]]\n"
          ],
          "name": "stdout"
        }
      ]
    },
    {
      "cell_type": "code",
      "metadata": {
        "colab": {
          "base_uri": "https://localhost:8080/"
        },
        "id": "kGFsJuVqEywU",
        "outputId": "581fb0e2-59d3-44b2-8480-319c85561bce"
      },
      "source": [
        "model2 = LinearRegression().fit(mx, my[0])\r\n",
        "\r\n",
        "yfit2=model2.predict(mx) \r\n",
        "print(\"Predicted dependent:\", yfit2)\r\n",
        "\r\n",
        "mr2 = model2.score(mx,my[0]) # R2 value\r\n",
        "\r\n",
        "print(\"Coefficient:\", model2.coef_[0])\r\n",
        "print(\"Intercept:\", model2.intercept_)\r\n",
        "print(\"R2:\", mr2)"
      ],
      "execution_count": 117,
      "outputs": [
        {
          "output_type": "stream",
          "text": [
            "Predicted dependent: [6.11868132 6.25054945 2.95384615 5.28351648 5.1956044  6.27252747\n",
            " 3.87692308 3.39340659 4.25054945 4.4043956 ]\n",
            "Coefficient: -0.02197802197802202\n",
            "Intercept: 6.756043956043957\n",
            "R2: 0.16880027189305546\n"
          ],
          "name": "stdout"
        }
      ]
    }
  ]
}