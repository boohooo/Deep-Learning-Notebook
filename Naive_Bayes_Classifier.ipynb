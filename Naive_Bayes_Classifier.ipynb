{
  "nbformat": 4,
  "nbformat_minor": 0,
  "metadata": {
    "colab": {
      "name": "Naive Bayes Classifier.ipynb",
      "provenance": []
    },
    "kernelspec": {
      "name": "python3",
      "display_name": "Python 3"
    }
  },
  "cells": [
    {
      "cell_type": "markdown",
      "metadata": {
        "id": "mjogdEbSakE_"
      },
      "source": [
        "E-Mail spam detection using Naive Bayes"
      ]
    },
    {
      "cell_type": "markdown",
      "metadata": {
        "id": "zSWNarfrapvm"
      },
      "source": [
        "Formula as below:\r\n",
        "\r\n",
        "P(A|B) = P(B|A).P(A) / P(B)"
      ]
    },
    {
      "cell_type": "code",
      "metadata": {
        "colab": {
          "base_uri": "https://localhost:8080/"
        },
        "id": "8dGBCIg3XszX",
        "outputId": "4ebbdec3-b495-4cfb-a0ad-b3c17b4465f8"
      },
      "source": [
        "import numpy as np \r\n",
        "import pandas as pd \r\n",
        "import re\r\n",
        "\r\n",
        "import nltk\r\n",
        "from nltk.stem import WordNetLemmatizer\r\n",
        "nltk.download('punkt')\r\n",
        "nltk.download('wordnet')\r\n",
        "nltk.download('stopwords')\r\n",
        "\r\n",
        "from sklearn.naive_bayes import GaussianNB\r\n",
        "from sklearn.model_selection import train_test_split\r\n",
        "from sklearn.feature_extraction.text import CountVectorizer\r\n",
        "from sklearn.metrics import confusion_matrix\r\n",
        "\r\n",
        "import seaborn\r\n",
        "import matplotlib.pyplot as plt"
      ],
      "execution_count": 96,
      "outputs": [
        {
          "output_type": "stream",
          "text": [
            "[nltk_data] Downloading package punkt to /root/nltk_data...\n",
            "[nltk_data]   Package punkt is already up-to-date!\n",
            "[nltk_data] Downloading package wordnet to /root/nltk_data...\n",
            "[nltk_data]   Package wordnet is already up-to-date!\n",
            "[nltk_data] Downloading package stopwords to /root/nltk_data...\n",
            "[nltk_data]   Package stopwords is already up-to-date!\n"
          ],
          "name": "stdout"
        }
      ]
    },
    {
      "cell_type": "code",
      "metadata": {
        "colab": {
          "base_uri": "https://localhost:8080/",
          "height": 204
        },
        "id": "FnzV9DlwXs1t",
        "outputId": "83902b74-ee85-4cbd-ecec-2ea237a6f540"
      },
      "source": [
        "# Importing dataset\r\n",
        "\r\n",
        "data1 = pd.read_csv('/content/SpamAssassin.csv')\r\n",
        "\r\n",
        "# 1 for spam, 0 for ham\r\n",
        "data1.head()"
      ],
      "execution_count": 75,
      "outputs": [
        {
          "output_type": "execute_result",
          "data": {
            "text/html": [
              "<div>\n",
              "<style scoped>\n",
              "    .dataframe tbody tr th:only-of-type {\n",
              "        vertical-align: middle;\n",
              "    }\n",
              "\n",
              "    .dataframe tbody tr th {\n",
              "        vertical-align: top;\n",
              "    }\n",
              "\n",
              "    .dataframe thead th {\n",
              "        text-align: right;\n",
              "    }\n",
              "</style>\n",
              "<table border=\"1\" class=\"dataframe\">\n",
              "  <thead>\n",
              "    <tr style=\"text-align: right;\">\n",
              "      <th></th>\n",
              "      <th>Unnamed: 0</th>\n",
              "      <th>Body</th>\n",
              "      <th>Label</th>\n",
              "    </tr>\n",
              "  </thead>\n",
              "  <tbody>\n",
              "    <tr>\n",
              "      <th>0</th>\n",
              "      <td>0</td>\n",
              "      <td>\\nSave up to 70% on Life Insurance.\\nWhy Spend...</td>\n",
              "      <td>1</td>\n",
              "    </tr>\n",
              "    <tr>\n",
              "      <th>1</th>\n",
              "      <td>1</td>\n",
              "      <td>1) Fight The Risk of Cancer!\\nhttp://www.adcli...</td>\n",
              "      <td>1</td>\n",
              "    </tr>\n",
              "    <tr>\n",
              "      <th>2</th>\n",
              "      <td>2</td>\n",
              "      <td>1) Fight The Risk of Cancer!\\nhttp://www.adcli...</td>\n",
              "      <td>1</td>\n",
              "    </tr>\n",
              "    <tr>\n",
              "      <th>3</th>\n",
              "      <td>3</td>\n",
              "      <td>##############################################...</td>\n",
              "      <td>1</td>\n",
              "    </tr>\n",
              "    <tr>\n",
              "      <th>4</th>\n",
              "      <td>4</td>\n",
              "      <td>I thought you might like these:\\n1) Slim Down ...</td>\n",
              "      <td>1</td>\n",
              "    </tr>\n",
              "  </tbody>\n",
              "</table>\n",
              "</div>"
            ],
            "text/plain": [
              "   Unnamed: 0                                               Body  Label\n",
              "0           0  \\nSave up to 70% on Life Insurance.\\nWhy Spend...      1\n",
              "1           1  1) Fight The Risk of Cancer!\\nhttp://www.adcli...      1\n",
              "2           2  1) Fight The Risk of Cancer!\\nhttp://www.adcli...      1\n",
              "3           3  ##############################################...      1\n",
              "4           4  I thought you might like these:\\n1) Slim Down ...      1"
            ]
          },
          "metadata": {
            "tags": []
          },
          "execution_count": 75
        }
      ]
    },
    {
      "cell_type": "code",
      "metadata": {
        "colab": {
          "base_uri": "https://localhost:8080/"
        },
        "id": "8vJhCVZQXs3_",
        "outputId": "74524494-ae83-4877-8070-4bf959fa3f90"
      },
      "source": [
        "data1.info()"
      ],
      "execution_count": 76,
      "outputs": [
        {
          "output_type": "stream",
          "text": [
            "<class 'pandas.core.frame.DataFrame'>\n",
            "RangeIndex: 6046 entries, 0 to 6045\n",
            "Data columns (total 3 columns):\n",
            " #   Column      Non-Null Count  Dtype \n",
            "---  ------      --------------  ----- \n",
            " 0   Unnamed: 0  6046 non-null   int64 \n",
            " 1   Body        6045 non-null   object\n",
            " 2   Label       6046 non-null   int64 \n",
            "dtypes: int64(2), object(1)\n",
            "memory usage: 141.8+ KB\n"
          ],
          "name": "stdout"
        }
      ]
    },
    {
      "cell_type": "code",
      "metadata": {
        "colab": {
          "base_uri": "https://localhost:8080/",
          "height": 204
        },
        "id": "tz45RGSvXs6G",
        "outputId": "be8d88de-002a-4afd-ee50-4ce814474142"
      },
      "source": [
        "# Remove Unnamed column, drop na rows\r\n",
        "\r\n",
        "data1.drop(columns='Unnamed: 0', inplace=True)\r\n",
        "data1.dropna(inplace=True)\r\n",
        "\r\n",
        "data1.head()"
      ],
      "execution_count": 77,
      "outputs": [
        {
          "output_type": "execute_result",
          "data": {
            "text/html": [
              "<div>\n",
              "<style scoped>\n",
              "    .dataframe tbody tr th:only-of-type {\n",
              "        vertical-align: middle;\n",
              "    }\n",
              "\n",
              "    .dataframe tbody tr th {\n",
              "        vertical-align: top;\n",
              "    }\n",
              "\n",
              "    .dataframe thead th {\n",
              "        text-align: right;\n",
              "    }\n",
              "</style>\n",
              "<table border=\"1\" class=\"dataframe\">\n",
              "  <thead>\n",
              "    <tr style=\"text-align: right;\">\n",
              "      <th></th>\n",
              "      <th>Body</th>\n",
              "      <th>Label</th>\n",
              "    </tr>\n",
              "  </thead>\n",
              "  <tbody>\n",
              "    <tr>\n",
              "      <th>0</th>\n",
              "      <td>\\nSave up to 70% on Life Insurance.\\nWhy Spend...</td>\n",
              "      <td>1</td>\n",
              "    </tr>\n",
              "    <tr>\n",
              "      <th>1</th>\n",
              "      <td>1) Fight The Risk of Cancer!\\nhttp://www.adcli...</td>\n",
              "      <td>1</td>\n",
              "    </tr>\n",
              "    <tr>\n",
              "      <th>2</th>\n",
              "      <td>1) Fight The Risk of Cancer!\\nhttp://www.adcli...</td>\n",
              "      <td>1</td>\n",
              "    </tr>\n",
              "    <tr>\n",
              "      <th>3</th>\n",
              "      <td>##############################################...</td>\n",
              "      <td>1</td>\n",
              "    </tr>\n",
              "    <tr>\n",
              "      <th>4</th>\n",
              "      <td>I thought you might like these:\\n1) Slim Down ...</td>\n",
              "      <td>1</td>\n",
              "    </tr>\n",
              "  </tbody>\n",
              "</table>\n",
              "</div>"
            ],
            "text/plain": [
              "                                                Body  Label\n",
              "0  \\nSave up to 70% on Life Insurance.\\nWhy Spend...      1\n",
              "1  1) Fight The Risk of Cancer!\\nhttp://www.adcli...      1\n",
              "2  1) Fight The Risk of Cancer!\\nhttp://www.adcli...      1\n",
              "3  ##############################################...      1\n",
              "4  I thought you might like these:\\n1) Slim Down ...      1"
            ]
          },
          "metadata": {
            "tags": []
          },
          "execution_count": 77
        }
      ]
    },
    {
      "cell_type": "code",
      "metadata": {
        "id": "lPIjp710Xs8F"
      },
      "source": [
        "# Text-Preprocessing\r\n",
        "# Function to clean the text\r\n",
        "\r\n",
        "def clean(x):\r\n",
        "  # Remove links first\r\n",
        "  x = [re.sub(r\"http\\S+\", \"\", text) for text in x]\r\n",
        "  # Remove special chars\r\n",
        "  x = [re.sub(\"[^a-zA-Z0-9]\", \" \", text) for text in x]\r\n",
        "  # Lowercase text\r\n",
        "  x = [text.lower() for text in x]\r\n",
        "  \r\n",
        "  return x\r\n",
        "\r\n",
        "data1_clean = data1\r\n",
        "data1_clean = clean(data1_clean['Body'])"
      ],
      "execution_count": 78,
      "outputs": []
    },
    {
      "cell_type": "code",
      "metadata": {
        "colab": {
          "base_uri": "https://localhost:8080/",
          "height": 137
        },
        "id": "Bnn14P12Xs-N",
        "outputId": "d7b785cd-adb4-4c34-8031-406d8b680e22"
      },
      "source": [
        "data1_clean[0]"
      ],
      "execution_count": 79,
      "outputs": [
        {
          "output_type": "execute_result",
          "data": {
            "application/vnd.google.colaboratory.intrinsic+json": {
              "type": "string"
            },
            "text/plain": [
              "' save up to 70  on life insurance  why spend more than you have to life quote savings ensuring your        family s financial security is very important  life quote savings makes        buying life insurance simple and affordable  we provide free access to the        very best companies and the lowest rates life quote savings is fast  easy and              saves you money  let us help you get started with the best values in              the country on new coverage  you can save hundreds or even thousands              of dollars by requesting a free quote from lifequote savings  our              service will take you less than 5 minutes to complete  shop and              compare  save up to 70  on all types of life insurance  click here for your              free quote protecting your family is the best investment you ll ever            make  if you are in receipt of this email        in error and or wish to be removed from our list  please click here and type remove  if you        reside in any state which prohibits e mail solicitations for insurance         please disregard this        email  '"
            ]
          },
          "metadata": {
            "tags": []
          },
          "execution_count": 79
        }
      ]
    },
    {
      "cell_type": "code",
      "metadata": {
        "id": "YXa16gCfXtAP"
      },
      "source": [
        "# Tokenizing\r\n",
        "\r\n",
        "# Converting each sentence into list of words\r\n",
        "data1_tokenize = [nltk.word_tokenize(text) for text in data1_clean]"
      ],
      "execution_count": 80,
      "outputs": []
    },
    {
      "cell_type": "code",
      "metadata": {
        "colab": {
          "base_uri": "https://localhost:8080/"
        },
        "id": "yK_PAHtwXtCI",
        "outputId": "cdc42dca-255a-4b3b-c0ce-0100a3ab5410"
      },
      "source": [
        "data1_tokenize[0]"
      ],
      "execution_count": 81,
      "outputs": [
        {
          "output_type": "execute_result",
          "data": {
            "text/plain": [
              "['save',\n",
              " 'up',\n",
              " 'to',\n",
              " '70',\n",
              " 'on',\n",
              " 'life',\n",
              " 'insurance',\n",
              " 'why',\n",
              " 'spend',\n",
              " 'more',\n",
              " 'than',\n",
              " 'you',\n",
              " 'have',\n",
              " 'to',\n",
              " 'life',\n",
              " 'quote',\n",
              " 'savings',\n",
              " 'ensuring',\n",
              " 'your',\n",
              " 'family',\n",
              " 's',\n",
              " 'financial',\n",
              " 'security',\n",
              " 'is',\n",
              " 'very',\n",
              " 'important',\n",
              " 'life',\n",
              " 'quote',\n",
              " 'savings',\n",
              " 'makes',\n",
              " 'buying',\n",
              " 'life',\n",
              " 'insurance',\n",
              " 'simple',\n",
              " 'and',\n",
              " 'affordable',\n",
              " 'we',\n",
              " 'provide',\n",
              " 'free',\n",
              " 'access',\n",
              " 'to',\n",
              " 'the',\n",
              " 'very',\n",
              " 'best',\n",
              " 'companies',\n",
              " 'and',\n",
              " 'the',\n",
              " 'lowest',\n",
              " 'rates',\n",
              " 'life',\n",
              " 'quote',\n",
              " 'savings',\n",
              " 'is',\n",
              " 'fast',\n",
              " 'easy',\n",
              " 'and',\n",
              " 'saves',\n",
              " 'you',\n",
              " 'money',\n",
              " 'let',\n",
              " 'us',\n",
              " 'help',\n",
              " 'you',\n",
              " 'get',\n",
              " 'started',\n",
              " 'with',\n",
              " 'the',\n",
              " 'best',\n",
              " 'values',\n",
              " 'in',\n",
              " 'the',\n",
              " 'country',\n",
              " 'on',\n",
              " 'new',\n",
              " 'coverage',\n",
              " 'you',\n",
              " 'can',\n",
              " 'save',\n",
              " 'hundreds',\n",
              " 'or',\n",
              " 'even',\n",
              " 'thousands',\n",
              " 'of',\n",
              " 'dollars',\n",
              " 'by',\n",
              " 'requesting',\n",
              " 'a',\n",
              " 'free',\n",
              " 'quote',\n",
              " 'from',\n",
              " 'lifequote',\n",
              " 'savings',\n",
              " 'our',\n",
              " 'service',\n",
              " 'will',\n",
              " 'take',\n",
              " 'you',\n",
              " 'less',\n",
              " 'than',\n",
              " '5',\n",
              " 'minutes',\n",
              " 'to',\n",
              " 'complete',\n",
              " 'shop',\n",
              " 'and',\n",
              " 'compare',\n",
              " 'save',\n",
              " 'up',\n",
              " 'to',\n",
              " '70',\n",
              " 'on',\n",
              " 'all',\n",
              " 'types',\n",
              " 'of',\n",
              " 'life',\n",
              " 'insurance',\n",
              " 'click',\n",
              " 'here',\n",
              " 'for',\n",
              " 'your',\n",
              " 'free',\n",
              " 'quote',\n",
              " 'protecting',\n",
              " 'your',\n",
              " 'family',\n",
              " 'is',\n",
              " 'the',\n",
              " 'best',\n",
              " 'investment',\n",
              " 'you',\n",
              " 'll',\n",
              " 'ever',\n",
              " 'make',\n",
              " 'if',\n",
              " 'you',\n",
              " 'are',\n",
              " 'in',\n",
              " 'receipt',\n",
              " 'of',\n",
              " 'this',\n",
              " 'email',\n",
              " 'in',\n",
              " 'error',\n",
              " 'and',\n",
              " 'or',\n",
              " 'wish',\n",
              " 'to',\n",
              " 'be',\n",
              " 'removed',\n",
              " 'from',\n",
              " 'our',\n",
              " 'list',\n",
              " 'please',\n",
              " 'click',\n",
              " 'here',\n",
              " 'and',\n",
              " 'type',\n",
              " 'remove',\n",
              " 'if',\n",
              " 'you',\n",
              " 'reside',\n",
              " 'in',\n",
              " 'any',\n",
              " 'state',\n",
              " 'which',\n",
              " 'prohibits',\n",
              " 'e',\n",
              " 'mail',\n",
              " 'solicitations',\n",
              " 'for',\n",
              " 'insurance',\n",
              " 'please',\n",
              " 'disregard',\n",
              " 'this',\n",
              " 'email']"
            ]
          },
          "metadata": {
            "tags": []
          },
          "execution_count": 81
        }
      ]
    },
    {
      "cell_type": "code",
      "metadata": {
        "id": "lCATfP06rbl2"
      },
      "source": [
        "# Lemmatization using NLTK WordNet\r\n",
        "# Converting words that are similar to a single word ie. swam>swim\r\n",
        "\r\n",
        "# Instantiate\r\n",
        "lemm = WordNetLemmatizer()\r\n",
        "# Lemmatize each list/'word' in the tokenized data\r\n",
        "data1_lemma = [[lemm.lemmatize(x) for x in text] for text in data1_tokenize]"
      ],
      "execution_count": 82,
      "outputs": []
    },
    {
      "cell_type": "code",
      "metadata": {
        "id": "BTUMjNfXrbn9"
      },
      "source": [
        "# Remove stopwords\r\n",
        "# Words that have no meaning will be removed\r\n",
        "\r\n",
        "stopwords = nltk.corpus.stopwords.words(\"english\")\r\n",
        "# For each list/'word', keep non-stopwords\r\n",
        "data1_swords = [[word for word in text if word not in stopwords] for text in data1_lemma]"
      ],
      "execution_count": 85,
      "outputs": []
    },
    {
      "cell_type": "code",
      "metadata": {
        "id": "5fmozzkzrbp1"
      },
      "source": [
        "# Vectorizing\r\n",
        "# Using Bag of Words (BOW)\r\n",
        "\r\n",
        "# Converting into vector matrix\r\n",
        "vectorizer = CountVectorizer(max_features=30000)\r\n",
        "x = vectorizer.fit_transform([\" \".join(text) for text in data1_swords]).toarray()\r\n",
        "\r\n",
        "# For labels (1 or 0) for each sentences\r\n",
        "y = data1['Label']"
      ],
      "execution_count": 88,
      "outputs": []
    },
    {
      "cell_type": "code",
      "metadata": {
        "colab": {
          "base_uri": "https://localhost:8080/"
        },
        "id": "i2iAY9kwrbrv",
        "outputId": "74995c66-3a86-4a83-8a0d-5ec1e5f2cf99"
      },
      "source": [
        "print(\"Shape of x:\", x.shape)\r\n",
        "print(\"Shape of y:\", y.shape)"
      ],
      "execution_count": 90,
      "outputs": [
        {
          "output_type": "stream",
          "text": [
            "Shape of x: (6045, 30000)\n",
            "Shape of y: (6045,)\n"
          ],
          "name": "stdout"
        }
      ]
    },
    {
      "cell_type": "code",
      "metadata": {
        "colab": {
          "base_uri": "https://localhost:8080/"
        },
        "id": "OElFMUB_rbtv",
        "outputId": "6d99bd9f-c630-45dc-d629-cae20ff13ac3"
      },
      "source": [
        "# Train test split the data\r\n",
        "\r\n",
        "x_train, x_test, y_train, y_test = train_test_split(x, y, random_state=42, test_size=0.2)\r\n",
        "\r\n",
        "print(\"Shape of x_train:\", x_train.shape)\r\n",
        "print(\"Shape of x_test:\", x_test.shape)\r\n",
        "print(\"Shape of y_train:\", y_train.shape)\r\n",
        "print(\"Shape of y_test:\", y_test.shape)"
      ],
      "execution_count": 92,
      "outputs": [
        {
          "output_type": "stream",
          "text": [
            "Shape of x_train: (4836, 30000)\n",
            "Shape of x_test: (1209, 30000)\n",
            "Shape of y_train: (4836,)\n",
            "Shape of y_test: (1209,)\n"
          ],
          "name": "stdout"
        }
      ]
    },
    {
      "cell_type": "code",
      "metadata": {
        "colab": {
          "base_uri": "https://localhost:8080/"
        },
        "id": "mzQ1FpXCrbvw",
        "outputId": "ed659d72-8255-40dc-a3b6-6527b3f6ae9e"
      },
      "source": [
        "# Fit the Naive Bayes Model (Gaussian)\r\n",
        "\r\n",
        "nb = GaussianNB()\r\n",
        "nb.fit(x_train, y_train)\r\n",
        "\r\n",
        "acc = nb.score(x_test, y_test)\r\n",
        "print(\"Accuracy:\", acc)"
      ],
      "execution_count": 93,
      "outputs": [
        {
          "output_type": "execute_result",
          "data": {
            "text/plain": [
              "0.9181141439205955"
            ]
          },
          "metadata": {
            "tags": []
          },
          "execution_count": 93
        }
      ]
    },
    {
      "cell_type": "code",
      "metadata": {
        "colab": {
          "base_uri": "https://localhost:8080/",
          "height": 265
        },
        "id": "FnIlHURlrqeX",
        "outputId": "1e02d321-bf5b-4fa6-b7cb-8e0b96935f36"
      },
      "source": [
        "# Prediction and Evaluation\r\n",
        "\r\n",
        "y_pred = nb.predict(x_test)\r\n",
        "conf = confusion_matrix(y_pred=y_pred,y_true=y_test)\r\n",
        "seaborn.heatmap(conf,annot=True,fmt=\".2f\")\r\n",
        "plt.show()"
      ],
      "execution_count": 97,
      "outputs": [
        {
          "output_type": "display_data",
          "data": {
            "image/png": "[encoded data removed]",
            "text/plain": [
              "<Figure size 432x288 with 2 Axes>"
            ]
          },
          "metadata": {
            "tags": [],
            "needs_background": "light"
          }
        }
      ]
    },
    {
      "cell_type": "code",
      "metadata": {
        "id": "f7iLPBzYrqgd"
      },
      "source": [
        ""
      ],
      "execution_count": null,
      "outputs": []
    },
    {
      "cell_type": "code",
      "metadata": {
        "id": "HauTWo3BrqiV"
      },
      "source": [
        ""
      ],
      "execution_count": null,
      "outputs": []
    },
    {
      "cell_type": "code",
      "metadata": {
        "id": "HRH-GaH0_uSS"
      },
      "source": [
        ""
      ],
      "execution_count": null,
      "outputs": []
    },
    {
      "cell_type": "code",
      "metadata": {
        "id": "tDU3zxOR_uXf"
      },
      "source": [
        ""
      ],
      "execution_count": null,
      "outputs": []
    },
    {
      "cell_type": "code",
      "metadata": {
        "id": "t1MoD2SU_uZX"
      },
      "source": [
        ""
      ],
      "execution_count": null,
      "outputs": []
    },
    {
      "cell_type": "code",
      "metadata": {
        "id": "DIo6tJ13_ube"
      },
      "source": [
        ""
      ],
      "execution_count": null,
      "outputs": []
    },
    {
      "cell_type": "code",
      "metadata": {
        "id": "Lhn0S2s2_udZ"
      },
      "source": [
        ""
      ],
      "execution_count": null,
      "outputs": []
    }
  ]
}