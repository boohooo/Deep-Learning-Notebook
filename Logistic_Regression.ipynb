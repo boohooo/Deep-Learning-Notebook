{
  "nbformat": 4,
  "nbformat_minor": 0,
  "metadata": {
    "colab": {
      "name": "Logistic Regression.ipynb",
      "provenance": []
    },
    "kernelspec": {
      "name": "python3",
      "display_name": "Python 3"
    }
  },
  "cells": [
    {
      "cell_type": "markdown",
      "metadata": {
        "id": "BJgAPbsmbAHy"
      },
      "source": [
        "Logistic Regression\r\n",
        "\r\n",
        "Dataset from: https://www.kaggle.com/c/titanic/data"
      ]
    },
    {
      "cell_type": "code",
      "metadata": {
        "id": "AmR_UDiSXVzZ"
      },
      "source": [
        "import numpy as np \r\n",
        "import pandas as pd \r\n",
        "\r\n",
        "from sklearn import preprocessing\r\n",
        "\r\n",
        "from sklearn.linear_model import LogisticRegression\r\n",
        "from sklearn.feature_selection import RFECV\r\n",
        "\r\n",
        "from sklearn.model_selection import train_test_split, cross_val_score\r\n",
        "from sklearn.metrics import accuracy_score, classification_report, precision_score, recall_score \r\n",
        "from sklearn.metrics import confusion_matrix, precision_recall_curve, roc_curve, auc, log_loss\r\n",
        "\r\n",
        "import warnings\r\n",
        "warnings.simplefilter(action='ignore')"
      ],
      "execution_count": null,
      "outputs": []
    },
    {
      "cell_type": "code",
      "metadata": {
        "id": "HhkHKT61XV1q",
        "colab": {
          "base_uri": "https://localhost:8080/",
          "height": 238
        },
        "outputId": "b71ee396-4090-448d-e3a5-ad867d125416"
      },
      "source": [
        "# Read in train+test datasets\r\n",
        "train = pd.read_csv(\"/content/train.csv\")\r\n",
        "test = pd.read_csv(\"/content/test.csv\")\r\n",
        "\r\n",
        "print(\"Train size:\", train.shape)\r\n",
        "print(\"Test size:\", test.shape)\r\n",
        "train.head()"
      ],
      "execution_count": null,
      "outputs": [
        {
          "output_type": "stream",
          "text": [
            "Train size: (891, 12)\n",
            "Test size: (418, 11)\n"
          ],
          "name": "stdout"
        },
        {
          "output_type": "execute_result",
          "data": {
            "text/html": [
              "<div>\n",
              "<style scoped>\n",
              "    .dataframe tbody tr th:only-of-type {\n",
              "        vertical-align: middle;\n",
              "    }\n",
              "\n",
              "    .dataframe tbody tr th {\n",
              "        vertical-align: top;\n",
              "    }\n",
              "\n",
              "    .dataframe thead th {\n",
              "        text-align: right;\n",
              "    }\n",
              "</style>\n",
              "<table border=\"1\" class=\"dataframe\">\n",
              "  <thead>\n",
              "    <tr style=\"text-align: right;\">\n",
              "      <th></th>\n",
              "      <th>PassengerId</th>\n",
              "      <th>Survived</th>\n",
              "      <th>Pclass</th>\n",
              "      <th>Name</th>\n",
              "      <th>Sex</th>\n",
              "      <th>Age</th>\n",
              "      <th>SibSp</th>\n",
              "      <th>Parch</th>\n",
              "      <th>Ticket</th>\n",
              "      <th>Fare</th>\n",
              "      <th>Cabin</th>\n",
              "      <th>Embarked</th>\n",
              "    </tr>\n",
              "  </thead>\n",
              "  <tbody>\n",
              "    <tr>\n",
              "      <th>0</th>\n",
              "      <td>1</td>\n",
              "      <td>0</td>\n",
              "      <td>3</td>\n",
              "      <td>Braund, Mr. Owen Harris</td>\n",
              "      <td>male</td>\n",
              "      <td>22.0</td>\n",
              "      <td>1</td>\n",
              "      <td>0</td>\n",
              "      <td>A/5 21171</td>\n",
              "      <td>7.2500</td>\n",
              "      <td>NaN</td>\n",
              "      <td>S</td>\n",
              "    </tr>\n",
              "    <tr>\n",
              "      <th>1</th>\n",
              "      <td>2</td>\n",
              "      <td>1</td>\n",
              "      <td>1</td>\n",
              "      <td>Cumings, Mrs. John Bradley (Florence Briggs Th...</td>\n",
              "      <td>female</td>\n",
              "      <td>38.0</td>\n",
              "      <td>1</td>\n",
              "      <td>0</td>\n",
              "      <td>PC 17599</td>\n",
              "      <td>71.2833</td>\n",
              "      <td>C85</td>\n",
              "      <td>C</td>\n",
              "    </tr>\n",
              "    <tr>\n",
              "      <th>2</th>\n",
              "      <td>3</td>\n",
              "      <td>1</td>\n",
              "      <td>3</td>\n",
              "      <td>Heikkinen, Miss. Laina</td>\n",
              "      <td>female</td>\n",
              "      <td>26.0</td>\n",
              "      <td>0</td>\n",
              "      <td>0</td>\n",
              "      <td>STON/O2. 3101282</td>\n",
              "      <td>7.9250</td>\n",
              "      <td>NaN</td>\n",
              "      <td>S</td>\n",
              "    </tr>\n",
              "    <tr>\n",
              "      <th>3</th>\n",
              "      <td>4</td>\n",
              "      <td>1</td>\n",
              "      <td>1</td>\n",
              "      <td>Futrelle, Mrs. Jacques Heath (Lily May Peel)</td>\n",
              "      <td>female</td>\n",
              "      <td>35.0</td>\n",
              "      <td>1</td>\n",
              "      <td>0</td>\n",
              "      <td>113803</td>\n",
              "      <td>53.1000</td>\n",
              "      <td>C123</td>\n",
              "      <td>S</td>\n",
              "    </tr>\n",
              "    <tr>\n",
              "      <th>4</th>\n",
              "      <td>5</td>\n",
              "      <td>0</td>\n",
              "      <td>3</td>\n",
              "      <td>Allen, Mr. William Henry</td>\n",
              "      <td>male</td>\n",
              "      <td>35.0</td>\n",
              "      <td>0</td>\n",
              "      <td>0</td>\n",
              "      <td>373450</td>\n",
              "      <td>8.0500</td>\n",
              "      <td>NaN</td>\n",
              "      <td>S</td>\n",
              "    </tr>\n",
              "  </tbody>\n",
              "</table>\n",
              "</div>"
            ],
            "text/plain": [
              "   PassengerId  Survived  Pclass  ...     Fare Cabin  Embarked\n",
              "0            1         0       3  ...   7.2500   NaN         S\n",
              "1            2         1       1  ...  71.2833   C85         C\n",
              "2            3         1       3  ...   7.9250   NaN         S\n",
              "3            4         1       1  ...  53.1000  C123         S\n",
              "4            5         0       3  ...   8.0500   NaN         S\n",
              "\n",
              "[5 rows x 12 columns]"
            ]
          },
          "metadata": {
            "tags": []
          },
          "execution_count": 108
        }
      ]
    },
    {
      "cell_type": "code",
      "metadata": {
        "id": "91C7ZjbSXV55",
        "colab": {
          "base_uri": "https://localhost:8080/"
        },
        "outputId": "52a5c701-c629-42ec-f8a5-912e3b2d5db7"
      },
      "source": [
        "# Check the integrity of dataset\r\n",
        "print(\"Train data:\\n\", train.isnull().sum(), \"\\n\")\r\n",
        "print(\"Test data:\\n\", test.isnull().sum())"
      ],
      "execution_count": null,
      "outputs": [
        {
          "output_type": "stream",
          "text": [
            "Train data:\n",
            " PassengerId      0\n",
            "Survived         0\n",
            "Pclass           0\n",
            "Name             0\n",
            "Sex              0\n",
            "Age            177\n",
            "SibSp            0\n",
            "Parch            0\n",
            "Ticket           0\n",
            "Fare             0\n",
            "Cabin          687\n",
            "Embarked         2\n",
            "dtype: int64 \n",
            "\n",
            "Test data:\n",
            " PassengerId      0\n",
            "Pclass           0\n",
            "Name             0\n",
            "Sex              0\n",
            "Age             86\n",
            "SibSp            0\n",
            "Parch            0\n",
            "Ticket           0\n",
            "Fare             1\n",
            "Cabin          327\n",
            "Embarked         0\n",
            "dtype: int64\n"
          ],
          "name": "stdout"
        }
      ]
    },
    {
      "cell_type": "code",
      "metadata": {
        "id": "aFo9ycQiXV77",
        "colab": {
          "base_uri": "https://localhost:8080/"
        },
        "outputId": "2903758e-ccfa-431c-e188-519cc2f21bd2"
      },
      "source": [
        "age_mean=train['Age'].mean(skipna=True)\r\n",
        "embarked_max=train['Embarked'].value_counts().idxmax()\r\n",
        "fare_mean=train['Fare'].mean(skipna=True)\r\n",
        "\r\n",
        "print(\"Mean value of age:\", age_mean)\r\n",
        "print(\"Count of embarked:\\n\", embarked_max)\r\n",
        "print(\"Mean of fare:\", fare_mean)"
      ],
      "execution_count": null,
      "outputs": [
        {
          "output_type": "stream",
          "text": [
            "Mean value of age: 29.69911764705882\n",
            "Count of embarked:\n",
            " S\n",
            "Mean of fare: 32.2042079685746\n"
          ],
          "name": "stdout"
        }
      ]
    },
    {
      "cell_type": "code",
      "metadata": {
        "id": "ta6EiTG2XV-d"
      },
      "source": [
        "# Drop the cabin column because it has too many null values\r\n",
        "train.drop(columns=['Cabin'], inplace=True)\r\n",
        "test.drop(columns=['Cabin'], inplace=True)"
      ],
      "execution_count": null,
      "outputs": []
    },
    {
      "cell_type": "code",
      "metadata": {
        "id": "GGIbor16gYqb"
      },
      "source": [
        "# Fill in the empty data\r\n",
        "train['Age'].fillna(age_mean, inplace=True)\r\n",
        "train['Embarked'].fillna(embarked_max, inplace=True)\r\n",
        "\r\n",
        "test['Age'].fillna(age_mean, inplace=True)\r\n",
        "test['Fare'].fillna(fare_mean, inplace=True)\r\n",
        "\r\n",
        "# Convert sex column into numerical\r\n",
        "def gender(x):\r\n",
        "  if x=='male': return 1\r\n",
        "  else: return 0\r\n",
        "\r\n",
        "train['Sex_Male'] = train['Sex'].apply(gender) \r\n",
        "test['Sex_Male'] = train['Sex'].apply(gender) \r\n",
        "\r\n",
        "# Drop sex column\r\n",
        "train.drop(columns=['Sex'], inplace=True)\r\n",
        "test.drop(columns=['Sex'], inplace=True)"
      ],
      "execution_count": null,
      "outputs": []
    },
    {
      "cell_type": "code",
      "metadata": {
        "id": "T1TnChXI48_h"
      },
      "source": [
        "# Also converting to numberical \r\n",
        "train=pd.get_dummies(train, columns=[\"Pclass\",\"Embarked\"])\r\n",
        "test=pd.get_dummies(test, columns=[\"Pclass\",\"Embarked\"])"
      ],
      "execution_count": null,
      "outputs": []
    },
    {
      "cell_type": "code",
      "metadata": {
        "colab": {
          "base_uri": "https://localhost:8080/"
        },
        "id": "KsIeMG-ygYso",
        "outputId": "9fcf564e-31f9-4511-8550-d6648ff4505d"
      },
      "source": [
        "# Check the integrity of dataset after\r\n",
        "print(\"Train data:\\n\", train.isnull().sum(), \"\\n\")\r\n",
        "print(\"Test data:\\n\", test.isnull().sum())"
      ],
      "execution_count": null,
      "outputs": [
        {
          "output_type": "stream",
          "text": [
            "Train data:\n",
            " PassengerId    0\n",
            "Survived       0\n",
            "Name           0\n",
            "Age            0\n",
            "SibSp          0\n",
            "Parch          0\n",
            "Ticket         0\n",
            "Fare           0\n",
            "Sex_Male       0\n",
            "Pclass_1       0\n",
            "Pclass_2       0\n",
            "Pclass_3       0\n",
            "Embarked_C     0\n",
            "Embarked_Q     0\n",
            "Embarked_S     0\n",
            "dtype: int64 \n",
            "\n",
            "Test data:\n",
            " PassengerId    0\n",
            "Name           0\n",
            "Age            0\n",
            "SibSp          0\n",
            "Parch          0\n",
            "Ticket         0\n",
            "Fare           0\n",
            "Sex_Male       0\n",
            "Pclass_1       0\n",
            "Pclass_2       0\n",
            "Pclass_3       0\n",
            "Embarked_C     0\n",
            "Embarked_Q     0\n",
            "Embarked_S     0\n",
            "dtype: int64\n"
          ],
          "name": "stdout"
        }
      ]
    },
    {
      "cell_type": "code",
      "metadata": {
        "colab": {
          "base_uri": "https://localhost:8080/"
        },
        "id": "tY3oSCSm116S",
        "outputId": "ee7bdb23-32ca-4093-c789-00870ddb52c4"
      },
      "source": [
        "train.dtypes"
      ],
      "execution_count": null,
      "outputs": [
        {
          "output_type": "execute_result",
          "data": {
            "text/plain": [
              "PassengerId      int64\n",
              "Survived         int64\n",
              "Name            object\n",
              "Age            float64\n",
              "SibSp            int64\n",
              "Parch            int64\n",
              "Ticket          object\n",
              "Fare           float64\n",
              "Sex_Male         int64\n",
              "Pclass_1         uint8\n",
              "Pclass_2         uint8\n",
              "Pclass_3         uint8\n",
              "Embarked_C       uint8\n",
              "Embarked_Q       uint8\n",
              "Embarked_S       uint8\n",
              "dtype: object"
            ]
          },
          "metadata": {
            "tags": []
          },
          "execution_count": 115
        }
      ]
    },
    {
      "cell_type": "code",
      "metadata": {
        "colab": {
          "base_uri": "https://localhost:8080/"
        },
        "id": "yrtq6vun5XNY",
        "outputId": "8e4e236b-e083-4c51-803b-698238a594e1"
      },
      "source": [
        "# Feature selection\r\n",
        "cols = train.columns.values\r\n",
        "print(cols)"
      ],
      "execution_count": null,
      "outputs": [
        {
          "output_type": "stream",
          "text": [
            "['PassengerId' 'Survived' 'Name' 'Age' 'SibSp' 'Parch' 'Ticket' 'Fare'\n",
            " 'Sex_Male' 'Pclass_1' 'Pclass_2' 'Pclass_3' 'Embarked_C' 'Embarked_Q'\n",
            " 'Embarked_S']\n"
          ],
          "name": "stdout"
        }
      ]
    },
    {
      "cell_type": "markdown",
      "metadata": {
        "id": "KIMoXLZ8JnSW"
      },
      "source": [
        "Wrapping Linear Regression equation into logistic function where output probability is between 0-1"
      ]
    },
    {
      "cell_type": "markdown",
      "metadata": {
        "id": "RLDpMFCrJkBe"
      },
      "source": [
        "![Equation.PNG](data:image/png;base64,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)"
      ]
    },
    {
      "cell_type": "code",
      "metadata": {
        "id": "5w3kLY5AmvBU",
        "colab": {
          "base_uri": "https://localhost:8080/"
        },
        "outputId": "fc1eca53-d8c7-40f8-ebc7-ed070ed3a789"
      },
      "source": [
        "cols = ['Age', 'SibSp', 'Parch', 'Fare', 'Sex_Male', 'Pclass_1', 'Pclass_2', 'Pclass_3', 'Embarked_C', 'Embarked_Q', 'Embarked_S'] \r\n",
        "\r\n",
        "X = train[cols]\r\n",
        "y = train['Survived']\r\n",
        "\r\n",
        "# Logistic Regression \r\n",
        "# Selecting features using RFECV\r\n",
        "rfecv = RFECV(estimator=LogisticRegression(), step=1, cv=10, scoring='accuracy')\r\n",
        "rfecv.fit(X, y)\r\n",
        "\r\n",
        "num_features = rfecv.n_features_\r\n",
        "selected_features = list(X.columns[rfecv.support_])\r\n",
        "\r\n",
        "print(\"Optimal number of features:\", num_features)\r\n",
        "print('Selected features:', selected_features)"
      ],
      "execution_count": null,
      "outputs": [
        {
          "output_type": "stream",
          "text": [
            "Optimal number of features: 11\n",
            "Selected features: ['Age', 'SibSp', 'Parch', 'Fare', 'Sex_Male', 'Pclass_1', 'Pclass_2', 'Pclass_3', 'Embarked_C', 'Embarked_Q', 'Embarked_S']\n"
          ],
          "name": "stdout"
        }
      ]
    },
    {
      "cell_type": "code",
      "metadata": {
        "id": "uem-nRJwgYus",
        "colab": {
          "base_uri": "https://localhost:8080/",
          "height": 316
        },
        "outputId": "8d47d7eb-5897-45b2-a339-456cb99dd2cf"
      },
      "source": [
        "# Features and Response\r\n",
        "X = train[selected_features]\r\n",
        "y = train['Survived']\r\n",
        "\r\n",
        "# Train test split\r\n",
        "X_train, X_test, y_train, y_test = train_test_split(X, y, test_size=0.2, random_state=2)\r\n",
        "\r\n",
        "# Logistic Regression\r\n",
        "logreg = LogisticRegression()\r\n",
        "logreg.fit(X_train, y_train)\r\n",
        "\r\n",
        "# Predict\r\n",
        "y_pred = logreg.predict(X_test)\r\n",
        "y_pred_proba = logreg.predict_proba(X_test)[:, 1]\r\n",
        "\r\n",
        "# ROC \r\n",
        "[fpr, tpr, thr] = roc_curve(y_test, y_pred_proba)\r\n",
        "\r\n",
        "print(\"Accuracy:\", accuracy_score(y_test, y_pred))\r\n",
        "print(\"Log_loss:\", log_loss(y_test, y_pred_proba))\r\n",
        "print(\"Auc:\", auc(fpr, tpr))\r\n",
        "\r\n",
        "\r\n",
        "# Plotting\r\n",
        "plt.figure()\r\n",
        "plt.plot(fpr, tpr, label='ROC curve (area = %0.4f)' % auc(fpr, tpr))\r\n",
        "\r\n",
        "plt.show()"
      ],
      "execution_count": null,
      "outputs": [
        {
          "output_type": "stream",
          "text": [
            "Accuracy: 0.7821229050279329\n",
            "Log_loss: 0.5106596284065511\n",
            "Auc: 0.829746835443038\n"
          ],
          "name": "stdout"
        },
        {
          "output_type": "display_data",
          "data": {
            "image/png": "[encoded data removed]",
            "text/plain": [
              "<Figure size 432x288 with 1 Axes>"
            ]
          },
          "metadata": {
            "tags": [],
            "needs_background": "light"
          }
        }
      ]
    },
    {
      "cell_type": "code",
      "metadata": {
        "id": "w-ia-9X9gYwx",
        "colab": {
          "base_uri": "https://localhost:8080/",
          "height": 204
        },
        "outputId": "e850b251-7e2b-4108-a100-19556751036b"
      },
      "source": [
        "test['Survived'] = logreg.predict(test[selected_features])\r\n",
        "test['PassengerId'] = test['PassengerId']\r\n",
        "\r\n",
        "submission = test[['PassengerId','Survived']]\r\n",
        "submission.to_csv(\"submission.csv\", index=False)\r\n",
        "submission.tail()"
      ],
      "execution_count": null,
      "outputs": [
        {
          "output_type": "execute_result",
          "data": {
            "text/html": [
              "<div>\n",
              "<style scoped>\n",
              "    .dataframe tbody tr th:only-of-type {\n",
              "        vertical-align: middle;\n",
              "    }\n",
              "\n",
              "    .dataframe tbody tr th {\n",
              "        vertical-align: top;\n",
              "    }\n",
              "\n",
              "    .dataframe thead th {\n",
              "        text-align: right;\n",
              "    }\n",
              "</style>\n",
              "<table border=\"1\" class=\"dataframe\">\n",
              "  <thead>\n",
              "    <tr style=\"text-align: right;\">\n",
              "      <th></th>\n",
              "      <th>PassengerId</th>\n",
              "      <th>Survived</th>\n",
              "    </tr>\n",
              "  </thead>\n",
              "  <tbody>\n",
              "    <tr>\n",
              "      <th>413</th>\n",
              "      <td>1305</td>\n",
              "      <td>0</td>\n",
              "    </tr>\n",
              "    <tr>\n",
              "      <th>414</th>\n",
              "      <td>1306</td>\n",
              "      <td>0</td>\n",
              "    </tr>\n",
              "    <tr>\n",
              "      <th>415</th>\n",
              "      <td>1307</td>\n",
              "      <td>0</td>\n",
              "    </tr>\n",
              "    <tr>\n",
              "      <th>416</th>\n",
              "      <td>1308</td>\n",
              "      <td>1</td>\n",
              "    </tr>\n",
              "    <tr>\n",
              "      <th>417</th>\n",
              "      <td>1309</td>\n",
              "      <td>1</td>\n",
              "    </tr>\n",
              "  </tbody>\n",
              "</table>\n",
              "</div>"
            ],
            "text/plain": [
              "     PassengerId  Survived\n",
              "413         1305         0\n",
              "414         1306         0\n",
              "415         1307         0\n",
              "416         1308         1\n",
              "417         1309         1"
            ]
          },
          "metadata": {
            "tags": []
          },
          "execution_count": 119
        }
      ]
    }
  ]
}