{
  "nbformat": 4,
  "nbformat_minor": 0,
  "metadata": {
    "colab": {
      "name": "Polynomial Regression",
      "provenance": []
    },
    "kernelspec": {
      "name": "python3",
      "display_name": "Python 3"
    }
  },
  "cells": [
    {
      "cell_type": "code",
      "metadata": {
        "id": "6LSXbhs3LHHP"
      },
      "source": [
        "import numpy as np\r\n",
        "import matplotlib.pyplot as plt\r\n",
        "\r\n",
        "from sklearn.linear_model import LinearRegression\r\n",
        "from sklearn.preprocessing import PolynomialFeatures\r\n",
        "from sklearn.pipeline import Pipeline\r\n",
        "from sklearn.metrics import mean_squared_error\r\n"
      ],
      "execution_count": 53,
      "outputs": []
    },
    {
      "cell_type": "code",
      "metadata": {
        "id": "0GwwvvivLNUr"
      },
      "source": [
        "# Create random data with polynomial curvature\r\n",
        "x=2*np.random.normal(0,1,50)\r\n",
        "y=2*(x**2)+np.random.normal(1,10,50)"
      ],
      "execution_count": 90,
      "outputs": []
    },
    {
      "cell_type": "code",
      "metadata": {
        "colab": {
          "base_uri": "https://localhost:8080/",
          "height": 265
        },
        "id": "Rnxt8xK5LNWx",
        "outputId": "07269784-bc28-43d0-aa6e-ade549837848"
      },
      "source": [
        "plt.scatter(x,y,s=15)\r\n",
        "\r\n",
        "plt.show()"
      ],
      "execution_count": 103,
      "outputs": [
        {
          "output_type": "display_data",
          "data": {
            "image/png": "[encoded data removed]",
            "text/plain": [
              "<Figure size 432x288 with 1 Axes>"
            ]
          },
          "metadata": {
            "tags": [],
            "needs_background": "light"
          }
        }
      ]
    },
    {
      "cell_type": "markdown",
      "metadata": {
        "id": "Yo-BtpzfeY2k"
      },
      "source": [
        "Polynomial Regression Equation\r\n",
        "\r\n",
        "y = b0 + (b1)x1 + (b2)x1^2 + ... + (bn)x1^n\r\n",
        "\r\n",
        "n = degree of polynomial\r\n",
        "\r\n",
        "b = coefficients\r\n",
        "\r\n",
        "\r\n",
        "\r\n",
        "\r\n",
        "\r\n",
        "\r\n"
      ]
    },
    {
      "cell_type": "code",
      "metadata": {
        "colab": {
          "base_uri": "https://localhost:8080/",
          "height": 299
        },
        "id": "3uSE_czDLNZF",
        "outputId": "c97e7892-fa09-4ba7-92ea-e24dbdc485c4"
      },
      "source": [
        "# Create a pipeline model\r\n",
        "# Data > Polynomial Transform > Linear Regression \r\n",
        "input=[('polynomial',PolynomialFeatures(degree=2)), ('model',LinearRegression())] # Degree of >1 is polynomial\r\n",
        "pipe=Pipeline(input)\r\n",
        "\r\n",
        "print(\"Before reshaping x,y:\", x.shape, y.shape)\r\n",
        "# Reshaping first to fit the pipeline \r\n",
        "x2 = x.reshape(-1,1)\r\n",
        "y2 = y.reshape(-1,1)\r\n",
        "print(\"After reshaping x,y:\", x2.shape, y2.shape)\r\n",
        "\r\n",
        "# Fit the pipeline\r\n",
        "pipe.fit(x2, y2)\r\n",
        "\r\n",
        "# Predictions\r\n",
        "y_pred = pipe.predict(x2)\r\n",
        "\r\n",
        "# Sorting\r\n",
        "sorted_zip = sorted(zip(x, y_pred))\r\n",
        "x_pred, y_pred = zip(*sorted_zip)\r\n",
        "\r\n",
        "# Plot out the polynomial regression\r\n",
        "plt.scatter(x, y)\r\n",
        "plt.plot(x_pred, y_pred, color='r')\r\n",
        "\r\n",
        "plt.show()"
      ],
      "execution_count": 120,
      "outputs": [
        {
          "output_type": "stream",
          "text": [
            "Before reshaping x,y: (50,) (50,)\n",
            "After reshaping x,y: (50, 1) (50, 1)\n"
          ],
          "name": "stdout"
        },
        {
          "output_type": "display_data",
          "data": {
            "image/png": "[encoded data removed]",
            "text/plain": [
              "<Figure size 432x288 with 1 Axes>"
            ]
          },
          "metadata": {
            "tags": [],
            "needs_background": "light"
          }
        }
      ]
    },
    {
      "cell_type": "code",
      "metadata": {
        "colab": {
          "base_uri": "https://localhost:8080/"
        },
        "id": "irmEr-14M9tG",
        "outputId": "1a91e1e9-6652-4c86-9c41-1c1b1c70ab7e"
      },
      "source": [
        "print('RMSE:',np.sqrt(mean_squared_error(y, pred)))"
      ],
      "execution_count": 115,
      "outputs": [
        {
          "output_type": "stream",
          "text": [
            "RMSE: 20.85184679904348\n"
          ],
          "name": "stdout"
        }
      ]
    },
    {
      "cell_type": "code",
      "metadata": {
        "id": "Ecr4cea-M9vU"
      },
      "source": [
        ""
      ],
      "execution_count": null,
      "outputs": []
    },
    {
      "cell_type": "code",
      "metadata": {
        "id": "rr2tEMBhM9xn"
      },
      "source": [
        ""
      ],
      "execution_count": null,
      "outputs": []
    }
  ]
}